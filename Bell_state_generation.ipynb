{
 "cells": [
  {
   "cell_type": "markdown",
   "metadata": {},
   "source": [
    "### Bell state using RX, RY, CNOT\n",
    "\n",
    "\n",
    "We present two approaches to generate the bell state, ${\\left|\\psi_{b}\\right\\rangle} = \\frac{1}{\\sqrt{2}}{\\left|00\\right\\rangle} + \\frac{1}{\\sqrt{2}}\\left|11\\right\\rangle$ : \n",
    "\n",
    "* Maximize the overlap of ${\\left|\\psi_{b}\\right\\rangle}$ with the final state ${\\left|\\psi_{f}\\right\\rangle}$ obtained after the application of the following circuit \n",
    "<img src=\"figs/no_measure.png\">\n",
    "i.e., Maximize $|\\langle {\\psi_{b} | \\psi_{f}} \\rangle|^{2}$. This approach involves no measurement and is an analytical way of finding the optimal parameters for $RX, RY$.\n",
    "\n",
    "\n",
    "* Minimize the expectation value of the $H \\otimes H$, where $H$ is given by $RY(\\pi/2)RX(-\\pi)RY(\\pi)$ operator (unitarily equivalent to a Hadamard upto a complex factor) with respect to the state obtained after the application of the following circuit\n",
    "<img src=\"figs/measure.png\">\n",
    "i.e., Minimize $\\langle {\\psi_{f} | H \\otimes H |\\psi_{f}} \\rangle$. This approach is a more realistic with \n",
    "the expectation value representing the different measurements outcomes given we have a quantum computer. To simulate the outcomes of a quantum computer on a classical computer, we would need a sampler. Instead of implementing a sampler we just use the expectation value.\n"
   ]
  },
  {
   "cell_type": "code",
   "execution_count": 1,
   "metadata": {
    "collapsed": false
   },
   "outputs": [],
   "source": [
    "from qcm_main import *\n",
    "res = ResOpt()"
   ]
  },
  {
   "cell_type": "markdown",
   "metadata": {},
   "source": [
    "##### Approach 1 : Overlap method with no noise in gates and initial state with initial state : ${\\left|00\\right\\rangle}$"
   ]
  },
  {
   "cell_type": "code",
   "execution_count": 2,
   "metadata": {
    "collapsed": false
   },
   "outputs": [
    {
     "name": "stdout",
     "output_type": "stream",
     "text": [
      " init state : \n",
      "Quantum object: dims = [[2, 2], [1, 1]], shape = (4, 1), type = ket\n",
      "Qobj data =\n",
      "[[1.]\n",
      " [0.]\n",
      " [0.]\n",
      " [0.]]\n",
      " depth :  1\n",
      " Overlap :  0.99999999999999\n",
      " phi's :  [ 1.57079630e+00  5.67039933e-01 -5.67040009e-01 -1.78047302e-07]\n",
      " no of evaluations of the obj func :  430\n",
      "################\n",
      "Overlap :  0.99999999999999\n",
      "Optimal phi's :  [ 1.57079630e+00  5.67039933e-01 -5.67040009e-01 -1.78047302e-07]\n"
     ]
    }
   ],
   "source": [
    "ol, opt_params = res.overlap_no_noise()\n",
    "print(\"Overlap : \", abs(ol))\n",
    "print(\"Optimal phi's : \", opt_params)"
   ]
  },
  {
   "cell_type": "markdown",
   "metadata": {},
   "source": [
    "##### Approach 2 : Expectation value method with no noise in gates and initial state with initial state : |00⟩"
   ]
  },
  {
   "cell_type": "code",
   "execution_count": 3,
   "metadata": {
    "collapsed": false
   },
   "outputs": [
    {
     "name": "stdout",
     "output_type": "stream",
     "text": [
      " init state : \n",
      "Quantum object: dims = [[2, 2], [1, 1]], shape = (4, 1), type = ket\n",
      "Qobj data =\n",
      "[[1.]\n",
      " [0.]\n",
      " [0.]\n",
      " [0.]]\n",
      " depth :  1\n",
      " Expectation :  -0.9999999999999968\n",
      " phi's :  [ 1.57079629e+00  3.65888231e+00 -3.65888220e+00 -1.91491982e-08]\n",
      " no of evaluations of the obj func :  472\n",
      "################\n",
      "Expectation value :  -0.9999999999999968\n",
      "Optimal phi's :  [ 1.57079629e+00  3.65888231e+00 -3.65888220e+00 -1.91491982e-08]\n"
     ]
    }
   ],
   "source": [
    "ex, opt_params = res.expect_no_noise()\n",
    "print(\"Expectation value : \", ex)\n",
    "print(\"Optimal phi's : \", opt_params)"
   ]
  },
  {
   "cell_type": "markdown",
   "metadata": {},
   "source": [
    "### Coherent Noise\n",
    "\n",
    "For each of the above methods we consider the following coherent noise models :"
   ]
  },
  {
   "cell_type": "markdown",
   "metadata": {},
   "source": [
    "#### Noisy Gates \n",
    "We assume the gates are imperfect but still unitary implying after application of each gate we introduce an  additional unitary which captures the noise. For instance, following circuit capture the above notions \n",
    "<img src=\"figs/ce_no_measure.png\"><img src=\"figs/ce_measure.png\">\n"
   ]
  },
  {
   "cell_type": "markdown",
   "metadata": {},
   "source": [
    "##### Approach 1 : Overlap method with noise in gates and no noise  in initial state, with initial state : : ${\\left|00\\right\\rangle}$"
   ]
  },
  {
   "cell_type": "code",
   "execution_count": 4,
   "metadata": {
    "collapsed": false
   },
   "outputs": [
    {
     "name": "stdout",
     "output_type": "stream",
     "text": [
      " init state : \n",
      "Quantum object: dims = [[2, 2], [1, 1]], shape = (4, 1), type = ket\n",
      "Qobj data =\n",
      "[[1.]\n",
      " [0.]\n",
      " [0.]\n",
      " [0.]]\n",
      " depth :  1\n",
      " Overlap :  0.9724328932595141\n",
      " phi's :  [ 0.00209431 -0.0010031  -0.0005333  -0.00031531]\n",
      " no of evaluations of the obj func :  800\n",
      "################\n",
      " Overlap :  0.9724328932595141\n",
      " Optimal phi's :  [ 0.00209431 -0.0010031  -0.0005333  -0.00031531]\n"
     ]
    }
   ],
   "source": [
    "olgn, opt_params_olgn = res.overlap_noisy_gate([0.9, 0.9, 0.9, 0.9], [0.95])\n",
    "print(\" Overlap : \", abs(olgn))\n",
    "print(\" Optimal phi's : \", opt_params_olgn)"
   ]
  },
  {
   "cell_type": "markdown",
   "metadata": {},
   "source": [
    "##### Approach 2 : Expectation value method with noise in gates and no noise  in initial state, with initial state : : ${\\left|00\\right\\rangle}$"
   ]
  },
  {
   "cell_type": "code",
   "execution_count": 5,
   "metadata": {
    "collapsed": false
   },
   "outputs": [
    {
     "name": "stdout",
     "output_type": "stream",
     "text": [
      " init state : \n",
      "Quantum object: dims = [[2, 2], [1, 1]], shape = (4, 1), type = ket\n",
      "Qobj data =\n",
      "[[1.]\n",
      " [0.]\n",
      " [0.]\n",
      " [0.]]\n",
      " depth :  1\n",
      " Overlap :  0.9949278488464138\n",
      " phi's :  [ 1.61471999e-04 -1.15295951e-04 -1.15650115e-05  1.61467337e-04]\n",
      " no of evaluations of the obj func :  802\n",
      "################\n",
      " Expectation value :  0.9949278488464138\n",
      " Optimal phi's :  [ 1.61471999e-04 -1.15295951e-04 -1.15650115e-05  1.61467337e-04]\n"
     ]
    }
   ],
   "source": [
    "exgn, opt_params_exgn = res.overlap_noisy_gate([0.9, 0.9, 0.9, 0.9], [0.95])\n",
    "print(\" Expectation value : \", exgn)\n",
    "print(\" Optimal phi's : \", opt_params_exgn)"
   ]
  },
  {
   "cell_type": "markdown",
   "metadata": {},
   "source": [
    "##### Noisy Initial state with noiseless gates \n",
    "For this case we present optimal circuits which have a noisy initialization. To this extent, we introduce layers of unitaries so as to improve the convergence of above defined optimization scenarios. Implying we start with a noisy initial state given by $\\sum_{i,j}\\alpha_{ij}{\\left|ij\\right\\rangle}$, to this state we apply multiple layers of above unitaries (varying depth).\n"
   ]
  },
  {
   "cell_type": "markdown",
   "metadata": {},
   "source": [
    "##### Approach 1 : Overlap method with random initial state and perfect gates"
   ]
  },
  {
   "cell_type": "code",
   "execution_count": 6,
   "metadata": {
    "collapsed": false
   },
   "outputs": [
    {
     "name": "stdout",
     "output_type": "stream",
     "text": [
      " init state : \n",
      "Quantum object: dims = [[2, 2], [1, 1]], shape = (4, 1), type = ket\n",
      "Qobj data =\n",
      "[[0.22023855]\n",
      " [0.78322626]\n",
      " [0.15738842]\n",
      " [0.55971465]]\n",
      " depth :  1\n",
      " Overlap :  0.9267238697661985\n",
      " phi's :  [ 3.29845545e-01  7.82011889e+00 -4.67852635e+00  1.03929422e-08]\n",
      " no of evaluations of the obj func :  721\n",
      "################\n",
      " Overlap :  0.9267238697661985\n",
      " Optimal phi's :  [ 3.29845545e-01  7.82011889e+00 -4.67852635e+00  1.03929422e-08]\n"
     ]
    }
   ],
   "source": [
    "# depth can be varied, default is set to 5 with fidelity cutoff > 0.9\n",
    "olisn, opt_params_olisn = res.overlap_noisy_initial_state()\n",
    "print(\" Overlap : \", olisn)\n",
    "print(\" Optimal phi's : \", opt_params_olisn)"
   ]
  },
  {
   "cell_type": "markdown",
   "metadata": {},
   "source": [
    "##### Approach 2 : Expectation method with random initial state and perfect gates"
   ]
  },
  {
   "cell_type": "code",
   "execution_count": 7,
   "metadata": {
    "collapsed": false
   },
   "outputs": [
    {
     "name": "stdout",
     "output_type": "stream",
     "text": [
      " init state : \n",
      "Quantum object: dims = [[2, 2], [1, 1]], shape = (4, 1), type = ket\n",
      "Qobj data =\n",
      "[[0.44033011]\n",
      " [0.41003682]\n",
      " [0.58454087]\n",
      " [0.54432634]]\n",
      " depth :  1\n",
      " Expectation :  -0.9999999999999981\n",
      " phi's :  [-1.06371582e+00 -8.20393265e-07  4.50691169e-08 -7.35061094e-01]\n",
      " no of evaluations of the obj func :  681\n",
      "################\n",
      " Expectation value :  -0.9999999999999981\n",
      " Optimal phi's :  [-1.06371582e+00 -8.20393265e-07  4.50691169e-08 -7.35061094e-01]\n"
     ]
    }
   ],
   "source": [
    "exisn, opt_params_exisn = res.expect_noisy_initial_state()\n",
    "print(\" Expectation value : \", exisn)\n",
    "print(\" Optimal phi's : \", opt_params_exisn)"
   ]
  },
  {
   "cell_type": "markdown",
   "metadata": {},
   "source": [
    "##### Noisy initial state along with Noisy Gates \n",
    "A combination of the above noises."
   ]
  },
  {
   "cell_type": "markdown",
   "metadata": {
    "collapsed": true
   },
   "source": [
    "##### Approach 1 : Overlap method with random initial state and gate noise"
   ]
  },
  {
   "cell_type": "code",
   "execution_count": 8,
   "metadata": {
    "collapsed": false
   },
   "outputs": [
    {
     "name": "stdout",
     "output_type": "stream",
     "text": [
      " init state : \n",
      "Quantum object: dims = [[2, 2], [1, 1]], shape = (4, 1), type = ket\n",
      "Qobj data =\n",
      "[[0.24669134]\n",
      " [0.34406841]\n",
      " [0.52789189]\n",
      " [0.73626793]]\n",
      " depth :  1\n",
      " Overlap :  0.8829480868127523\n",
      " phi's :  [ 5.53432771e-05 -1.38593900e-04  6.21956674e-05  2.00687248e-04]\n",
      " no of evaluations of the obj func :  802\n",
      "################\n",
      " depth :  2\n",
      " Overlap :  0.7923158246636042\n",
      " phi's :  [-0.00072362 -0.00011937  0.00027394  0.00066187]\n",
      " no of evaluations of the obj func :  801\n",
      "################\n",
      " depth :  3\n",
      " Overlap :  0.8742593820364687\n",
      " phi's :  [-6.36425334e-05  9.57504008e-05 -1.00232913e-04  1.11143288e-04]\n",
      " no of evaluations of the obj func :  800\n",
      "################\n",
      " depth :  4\n",
      " Overlap :  0.8490910770979628\n",
      " phi's :  [-1.13529540e-03 -2.29916056e-05 -2.11205196e-04  1.11994900e-03]\n",
      " no of evaluations of the obj func :  801\n",
      "################\n",
      " depth :  5\n",
      " Overlap :  0.9133006803787951\n",
      " phi's :  [-1.54449623e-04 -6.07608002e-05  3.32642398e-05  2.68707683e-04]\n",
      " no of evaluations of the obj func :  801\n",
      "################\n",
      " Overlap :  0.9133006803787951\n",
      " Optimal phi's :  [-1.54449623e-04 -6.07608002e-05  3.32642398e-05  2.68707683e-04]\n"
     ]
    }
   ],
   "source": [
    "# the depth here has been fixed to 5, if in these many layers it does not hit a fid > 0.9 it returns None ... \n",
    "# TODO : Make depth dynamic (use `while` and also make `passing fidelity` a parameter to the function)\n",
    "olan, opt_params_olan = res.overlap_noisy_state_noisy_gates([0.9, 0.9, 0.9, 0.9], [0.95])\n",
    "print(\" Overlap : \", olan)\n",
    "print(\" Optimal phi's : \", opt_params_olan)"
   ]
  },
  {
   "cell_type": "markdown",
   "metadata": {},
   "source": [
    "##### Approach 2 : Expectation method with random initial state and perfect gates"
   ]
  },
  {
   "cell_type": "code",
   "execution_count": 9,
   "metadata": {
    "collapsed": false
   },
   "outputs": [
    {
     "name": "stdout",
     "output_type": "stream",
     "text": [
      " init state : \n",
      "Quantum object: dims = [[2, 2], [1, 1]], shape = (4, 1), type = ket\n",
      "Qobj data =\n",
      "[[0.45205426]\n",
      " [0.51556471]\n",
      " [0.47988821]\n",
      " [0.54730913]]\n",
      " depth :  1\n",
      " Expectation :  -0.986707496946814\n",
      " phi's :  [3.12438813e-05 3.12597842e-05 3.12599385e-05 3.12409952e-05]\n",
      " no of evaluations of the obj func :  803\n",
      "################\n",
      " Expectation value :  -0.986707496946814\n",
      " Optimal phi's :  [3.12438813e-05 3.12597842e-05 3.12599385e-05 3.12409952e-05]\n"
     ]
    }
   ],
   "source": [
    "exan, opt_params_exan = res.expect_noisy_state_noisy_gates([0.9, 0.9, 0.9, 0.9], [0.95])\n",
    "print(\" Expectation value : \", exan)\n",
    "print(\" Optimal phi's : \", opt_params_exan)"
   ]
  },
  {
   "cell_type": "markdown",
   "metadata": {
    "collapsed": true
   },
   "source": [
    "### Two qubit Incoherent Noise along with single and two qubit coherent noise\n",
    "\n",
    "We consider two qubit incoherent noise either due to dephasing or amplitude dampening (but not both) along with coherent noise on all gates. We set the depth to 1 and start with the initial state as |00>."
   ]
  },
  {
   "cell_type": "markdown",
   "metadata": {},
   "source": [
    "#### Two qubit `dephasing` noise, along with coherent noise on all other gates"
   ]
  },
  {
   "cell_type": "markdown",
   "metadata": {},
   "source": [
    "##### Approach 1 : Overlap method"
   ]
  },
  {
   "cell_type": "code",
   "execution_count": 10,
   "metadata": {
    "collapsed": false
   },
   "outputs": [
    {
     "name": "stdout",
     "output_type": "stream",
     "text": [
      " Fidelity :  2.488063722688324\n",
      " phi's :  [ 4.05815322e-04  2.26988733e-04 -7.22765877e-05  2.60606381e-04]\n",
      "################\n",
      " Fidelity :   2.488063722688324\n",
      " Optimal phi's :  [ 4.05815322e-04  2.26988733e-04 -7.22765877e-05  2.60606381e-04]\n"
     ]
    }
   ],
   "source": [
    "ficdn, opt_params_ficdn = res.overlap_dephasing_noisy_gate_mc([0.95, 0.95, 0.95, 0.95], [0.95], [0.75, 0.88])\n",
    "print(\" Fidelity :  \", ficdn)\n",
    "print(\" Optimal phi's : \", opt_params_ficdn)"
   ]
  },
  {
   "cell_type": "markdown",
   "metadata": {},
   "source": [
    "###### Approach 2 : Expectation value method"
   ]
  },
  {
   "cell_type": "code",
   "execution_count": 11,
   "metadata": {
    "collapsed": false
   },
   "outputs": [
    {
     "name": "stdout",
     "output_type": "stream",
     "text": [
      " Expectation :  -0.721984937516353\n",
      " phi's :  [ 0.00012501 -0.00025001  0.000125    0.000125  ]\n",
      "################\n",
      " Expectation :   -0.721984937516353\n",
      " Optimal phi's :  [ 0.00012501 -0.00025001  0.000125    0.000125  ]\n"
     ]
    }
   ],
   "source": [
    "exicdn, opt_params_exicdn = res.expect_dephasing_noisy_gate_mc([0.95, 0.95, 0.95, 0.95], [0.95], [0.75, 0.88])\n",
    "print(\" Expectation :  \", exicdn)\n",
    "print(\" Optimal phi's : \", opt_params_exicdn)"
   ]
  },
  {
   "cell_type": "markdown",
   "metadata": {},
   "source": [
    "#### Two qubit `amplitude dampening` noise, along with coherent noise on all other gates"
   ]
  },
  {
   "cell_type": "markdown",
   "metadata": {},
   "source": [
    "##### Approach 1 : Overlap method"
   ]
  },
  {
   "cell_type": "code",
   "execution_count": 12,
   "metadata": {
    "collapsed": false
   },
   "outputs": [
    {
     "name": "stdout",
     "output_type": "stream",
     "text": [
      " Fidelity :  2.9323183473564627\n",
      " phi's :  [-1.03612989e-06  2.98120685e-04  3.25721808e-04  7.10765198e-05]\n",
      "################\n",
      " Fidelity :   2.9323183473564627\n",
      " Optimal phi's :  [-1.03612989e-06  2.98120685e-04  3.25721808e-04  7.10765198e-05]\n"
     ]
    }
   ],
   "source": [
    "ficadn, opt_params_ficadn = res.overlap_amp_damp_noisy_gate_mc([0.95, 0.95, 0.95, 0.95], [0.95], [0.75, 0.88])\n",
    "print(\" Fidelity :  \", ficadn)\n",
    "print(\" Optimal phi's : \", opt_params_ficadn)"
   ]
  },
  {
   "cell_type": "markdown",
   "metadata": {},
   "source": [
    "###### Approach 2 : Expectation value method"
   ]
  },
  {
   "cell_type": "code",
   "execution_count": 13,
   "metadata": {
    "collapsed": false
   },
   "outputs": [
    {
     "name": "stdout",
     "output_type": "stream",
     "text": [
      " Expectation :  -0.6875881728352043\n",
      " phi's :  [ 4.26086426e-04 -5.54809570e-05 -2.93823242e-04  4.46594238e-04]\n",
      "################\n",
      " Expectation :   -0.6875881728352043\n",
      " Optimal phi's :  [ 4.26086426e-04 -5.54809570e-05 -2.93823242e-04  4.46594238e-04]\n"
     ]
    }
   ],
   "source": [
    "exicadn, opt_params_exiacdn = res.expect_amp_damp_noisy_gate_mc([0.95, 0.95, 0.95, 0.95], [0.95], [0.75, 0.88])\n",
    "print(\" Expectation :  \", exicadn)\n",
    "print(\" Optimal phi's : \", opt_params_exiacdn)"
   ]
  }
 ],
 "metadata": {
  "kernelspec": {
   "display_name": "Python 3",
   "language": "python",
   "name": "python3"
  },
  "language_info": {
   "codemirror_mode": {
    "name": "ipython",
    "version": 3
   },
   "file_extension": ".py",
   "mimetype": "text/x-python",
   "name": "python",
   "nbconvert_exporter": "python",
   "pygments_lexer": "ipython3",
   "version": "3.5.2"
  }
 },
 "nbformat": 4,
 "nbformat_minor": 0
}
