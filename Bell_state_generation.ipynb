{
 "cells": [
  {
   "cell_type": "markdown",
   "metadata": {},
   "source": [
    "### Bell state using RX, RY, CNOT\n",
    "\n",
    "\n",
    "We present two approaches to generate the bell state, ${\\left|\\psi_{b}\\right\\rangle} = \\frac{1}{\\sqrt{2}}{\\left|00\\right\\rangle} + \\frac{1}{\\sqrt{2}}\\left|11\\right\\rangle$ : \n",
    "\n",
    "* Maximize the overlap of ${\\left|\\psi_{b}\\right\\rangle}$ with the final state ${\\left|\\psi_{f}\\right\\rangle}$ obtained after the application of the following circuit \n",
    "<img src=\"figs/no_measure.png\">\n",
    "i.e., Maximize $|\\langle {\\psi_{b} | \\psi_{f}} \\rangle|^{2}$. This approach involves no measurement and is an analytical way of finding the optimal parameters for $RX, RY$.\n",
    "\n",
    "\n",
    "* Minimize the expectation value of the $H \\otimes H$, where $H$ is given by $RY(\\pi/2)RX(-\\pi)RY(\\pi)$ operator (unitarily equivalent to a Hadamard upto a complex factor) with respect to the state obtained after the application of the following circuit\n",
    "<img src=\"figs/measure.png\">\n",
    "i.e., Minimize $\\langle {\\psi_{f} | H \\otimes H |\\psi_{f}} \\rangle$. This approach is a more realistic with \n",
    "the expectation value representing the different measurements outcomes given we have a quantum computer. To simulate the outcomes of a quantum computer on a classical computer, we would need a sampler. Instead of implementing a sampler we just use the expectation value.\n"
   ]
  },
  {
   "cell_type": "code",
   "execution_count": null,
   "metadata": {
    "collapsed": false
   },
   "outputs": [],
   "source": [
    "from qcm_main import *\n",
    "res = ResOpt()"
   ]
  },
  {
   "cell_type": "markdown",
   "metadata": {},
   "source": [
    "##### Approach 1 : Overlap method with no noise in gates and initial state with initial state : ${\\left|00\\right\\rangle}$"
   ]
  },
  {
   "cell_type": "code",
   "execution_count": null,
   "metadata": {
    "collapsed": false
   },
   "outputs": [],
   "source": [
    "ol, opt_params = res.overlap_no_noise()\n",
    "print(\"Overlap : \", abs(ol))\n",
    "print(\"Optimal phi's : \", opt_params)"
   ]
  },
  {
   "cell_type": "markdown",
   "metadata": {},
   "source": [
    "##### Approach 2 : Expectation value method with no noise in gates and initial state with initial state : |00⟩"
   ]
  },
  {
   "cell_type": "code",
   "execution_count": null,
   "metadata": {
    "collapsed": false
   },
   "outputs": [],
   "source": [
    "ex, opt_params = res.expect_no_noise()\n",
    "print(\"Expectation value : \", ex)\n",
    "print(\"Optimal phi's : \", opt_params)"
   ]
  },
  {
   "cell_type": "markdown",
   "metadata": {},
   "source": [
    "### Coherent Noise\n",
    "\n",
    "For each of the above methods we consider the following coherent noise models :"
   ]
  },
  {
   "cell_type": "markdown",
   "metadata": {},
   "source": [
    "#### Noisy Gates \n",
    "We assume the gates are imperfect but still unitary implying after application of each gate we introduce an  additional unitary which captures the noise. For instance, following circuit capture the above notions \n",
    "<img src=\"figs/ce_no_measure.png\"><img src=\"figs/ce_measure.png\">\n"
   ]
  },
  {
   "cell_type": "markdown",
   "metadata": {},
   "source": [
    "##### Approach 1 : Overlap method with noise in gates and no noise  in initial state, with initial state : : ${\\left|00\\right\\rangle}$"
   ]
  },
  {
   "cell_type": "code",
   "execution_count": null,
   "metadata": {
    "collapsed": false
   },
   "outputs": [],
   "source": [
    "olgn, opt_params_olgn = res.overlap_noisy_gate([0.9, 0.9, 0.9, 0.9], [0.95])\n",
    "print(\" Overlap : \", abs(olgn))\n",
    "print(\" Optimal phi's : \", opt_params_olgn)"
   ]
  },
  {
   "cell_type": "markdown",
   "metadata": {},
   "source": [
    "##### Approach 2 : Expectation value method with noise in gates and no noise  in initial state, with initial state : : ${\\left|00\\right\\rangle}$"
   ]
  },
  {
   "cell_type": "code",
   "execution_count": null,
   "metadata": {
    "collapsed": false
   },
   "outputs": [],
   "source": [
    "exgn, opt_params_exgn = res.overlap_noisy_gate([0.9, 0.9, 0.9, 0.9], [0.95])\n",
    "print(\" Expectation value : \", exgn)\n",
    "print(\" Optimal phi's : \", opt_params_exgn)"
   ]
  },
  {
   "cell_type": "markdown",
   "metadata": {},
   "source": [
    "##### Noisy Initial state with noiseless gates \n",
    "For this case we present optimal circuits which have a noisy initialization. To this extent, we introduce layers of unitaries so as to improve the convergence of above defined optimization scenarios. Implying we start with a noisy initial state given by $\\sum_{i,j}\\alpha_{ij}{\\left|ij\\right\\rangle}$, to this state we apply multiple layers of above unitaries (varying depth).\n"
   ]
  },
  {
   "cell_type": "markdown",
   "metadata": {},
   "source": [
    "##### Approach 1 : Overlap method with random initial state and perfect gates"
   ]
  },
  {
   "cell_type": "code",
   "execution_count": null,
   "metadata": {
    "collapsed": false
   },
   "outputs": [],
   "source": [
    "# depth can be varied, default is set to 5 with fidelity cutoff > 0.9\n",
    "olisn, opt_params_olisn = res.overlap_noisy_initial_state()\n",
    "print(\" Overlap : \", olisn)\n",
    "print(\" Optimal phi's : \", opt_params_olisn)"
   ]
  },
  {
   "cell_type": "markdown",
   "metadata": {},
   "source": [
    "##### Approach 2 : Expectation method with random initial state and perfect gates"
   ]
  },
  {
   "cell_type": "code",
   "execution_count": null,
   "metadata": {
    "collapsed": false
   },
   "outputs": [],
   "source": [
    "exisn, opt_params_exisn = res.expect_noisy_initial_state()\n",
    "print(\" Expectation value : \", exisn)\n",
    "print(\" Optimal phi's : \", opt_params_exisn)"
   ]
  },
  {
   "cell_type": "markdown",
   "metadata": {},
   "source": [
    "##### Noisy initial state along with Noisy Gates \n",
    "A combination of the above noises."
   ]
  },
  {
   "cell_type": "markdown",
   "metadata": {
    "collapsed": true
   },
   "source": [
    "##### Approach 1 : Overlap method with random initial state and gate noise"
   ]
  },
  {
   "cell_type": "code",
   "execution_count": null,
   "metadata": {
    "collapsed": false
   },
   "outputs": [],
   "source": [
    "olan, opt_params_olan = res.overlap_noisy_state_noisy_gates([0.9, 0.9, 0.9, 0.9], [0.95])\n",
    "print(\" Overlap : \", olan)\n",
    "print(\" Optimal phi's : \", opt_params_olan)"
   ]
  },
  {
   "cell_type": "markdown",
   "metadata": {},
   "source": [
    "##### Approach 2 : Expectation method with random initial state and perfect gates"
   ]
  },
  {
   "cell_type": "code",
   "execution_count": null,
   "metadata": {
    "collapsed": false
   },
   "outputs": [],
   "source": [
    "exan, opt_params_exan = res.expect_noisy_state_noisy_gates([0.9, 0.9, 0.9, 0.9], [0.95])\n",
    "print(\" Expectation value : \", exan)\n",
    "print(\" Optimal phi's : \", opt_params_exan)"
   ]
  },
  {
   "cell_type": "markdown",
   "metadata": {
    "collapsed": true
   },
   "source": [
    "### Two qubit Incoherent Noise along with single and two qubit incoherent noise\n",
    "\n",
    "We consider two qubit incoherent noise either due to dephasing or amplitude dampening (but not both) along with coherent noise on all gates. We set the depth to 1 and start with the initial state as |00>."
   ]
  },
  {
   "cell_type": "markdown",
   "metadata": {},
   "source": [
    "#### Two qubit `dephasing` noise, along with coherent noise on all other gates"
   ]
  },
  {
   "cell_type": "markdown",
   "metadata": {},
   "source": [
    "##### Approach 1 : Overlap method"
   ]
  },
  {
   "cell_type": "code",
   "execution_count": null,
   "metadata": {
    "collapsed": false
   },
   "outputs": [],
   "source": [
    "ficdn, opt_params_ficdn = res.overlap_dephasing_noisy_gate_mc([0.95, 0.95, 0.95, 0.95], [0.95], [0.75, 0.88])\n",
    "print(\" Fidelity :  \", ficdn)\n",
    "print(\" Optimal phi's : \", opt_params_ficdn)"
   ]
  },
  {
   "cell_type": "markdown",
   "metadata": {},
   "source": [
    "###### Approach 2 : Expectation value method"
   ]
  },
  {
   "cell_type": "code",
   "execution_count": null,
   "metadata": {
    "collapsed": false
   },
   "outputs": [],
   "source": [
    "exicdn, opt_params_exicdn = res.expect_dephasing_noisy_gate_mc([0.95, 0.95, 0.95, 0.95], [0.95], [0.75, 0.88])\n",
    "print(\" Expectation :  \", exicdn)\n",
    "print(\" Optimal phi's : \", opt_params_exicdn)"
   ]
  },
  {
   "cell_type": "markdown",
   "metadata": {},
   "source": [
    "#### Two qubit `amplitude dampening` noise, along with coherent noise on all other gates"
   ]
  },
  {
   "cell_type": "markdown",
   "metadata": {},
   "source": [
    "##### Approach 1 : Overlap method"
   ]
  },
  {
   "cell_type": "code",
   "execution_count": null,
   "metadata": {
    "collapsed": false
   },
   "outputs": [],
   "source": [
    "ficadn, opt_params_ficadn = res.overlap_amp_damp_noisy_gate_mc([0.95, 0.95, 0.95, 0.95], [0.95], [0.75, 0.88])\n",
    "print(\" Fidelity :  \", ficadn)\n",
    "print(\" Optimal phi's : \", opt_params_ficadn)"
   ]
  },
  {
   "cell_type": "markdown",
   "metadata": {},
   "source": [
    "###### Approach 2 : Expectation value method"
   ]
  },
  {
   "cell_type": "code",
   "execution_count": null,
   "metadata": {
    "collapsed": false
   },
   "outputs": [],
   "source": [
    "exicadn, opt_params_exiacdn = res.expect_amp_damp_noisy_gate_mc([0.95, 0.95, 0.95, 0.95], [0.95], [0.75, 0.88])\n",
    "print(\" Expectation :  \", exicadn)\n",
    "print(\" Optimal phi's : \", opt_params_exiacdn)"
   ]
  }
 ],
 "metadata": {
  "kernelspec": {
   "display_name": "Python 3",
   "language": "python",
   "name": "python3"
  },
  "language_info": {
   "codemirror_mode": {
    "name": "ipython",
    "version": 3
   },
   "file_extension": ".py",
   "mimetype": "text/x-python",
   "name": "python",
   "nbconvert_exporter": "python",
   "pygments_lexer": "ipython3",
   "version": "3.5.2"
  }
 },
 "nbformat": 4,
 "nbformat_minor": 0
}
